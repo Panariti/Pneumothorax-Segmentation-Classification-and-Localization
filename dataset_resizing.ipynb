{
 "cells": [
  {
   "cell_type": "code",
   "execution_count": null,
   "metadata": {},
   "outputs": [],
   "source": [
    "from PIL import Image\n",
    "def resize_images(path_to_the_images_folder, path_for_saving_resized_images)\n",
    "    #this line takes all the names of the images. This is done so that after conversion the images have the same names.\n",
    "    image_files_list = os.listdir(path_to_the_images_folder)\n",
    "\n",
    "    for image_name in image_files_list:\n",
    "        im = Image.open(path_to_the_images_folder + image_name)\n",
    "        size = (224, 224)\n",
    "        image = im.resize(size, Image.BILINEAR)\n",
    "        image.save(path_for_saving_resized_images + image_name, \"PNG\")"
   ]
  }
 ],
 "metadata": {
  "kernelspec": {
   "display_name": "Python 3",
   "language": "python",
   "name": "python3"
  },
  "language_info": {
   "codemirror_mode": {
    "name": "ipython",
    "version": 3
   },
   "file_extension": ".py",
   "mimetype": "text/x-python",
   "name": "python",
   "nbconvert_exporter": "python",
   "pygments_lexer": "ipython3",
   "version": "3.7.4"
  }
 },
 "nbformat": 4,
 "nbformat_minor": 2
}
